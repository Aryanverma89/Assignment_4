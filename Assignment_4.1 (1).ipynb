{
 "cells": [
  {
   "cell_type": "markdown",
   "id": "f5dc196c-ff0f-4cfc-a9a8-e2ceae2a568d",
   "metadata": {},
   "source": [
    "Q1, Create a vehicle class with an init method having instance variables as name_of_vehicle, max_speed \n",
    "and average_of_vehicle."
   ]
  },
  {
   "cell_type": "code",
   "execution_count": 3,
   "id": "342e4af1-2d10-4f65-9347-bfbecb41b347",
   "metadata": {},
   "outputs": [],
   "source": [
    "class vehicle:\n",
    "    def __init__(self,name_of_vehicle,max_speed,average_of_vehicle):\n",
    "        self.name_of_vehicle=name_of_vehicle\n",
    "        self.max_speed=max_speed\n",
    "        self.average_of_vehicle=average_of_vehicle"
   ]
  },
  {
   "cell_type": "code",
   "execution_count": 4,
   "id": "f4daaa5c-22ca-472c-b66c-ae9a5bfd651d",
   "metadata": {},
   "outputs": [],
   "source": [
    "car=vehicle(\"Hero\",120,60)"
   ]
  },
  {
   "cell_type": "code",
   "execution_count": 5,
   "id": "805bb0bc-0b32-4a32-80a7-38ab1c866fa1",
   "metadata": {},
   "outputs": [
    {
     "data": {
      "text/plain": [
       "'Hero'"
      ]
     },
     "execution_count": 5,
     "metadata": {},
     "output_type": "execute_result"
    }
   ],
   "source": [
    "car.name_of_vehicle"
   ]
  },
  {
   "cell_type": "code",
   "execution_count": 6,
   "id": "9a79c045-add2-41c8-8b0c-37ef3d2bd5e3",
   "metadata": {},
   "outputs": [
    {
     "data": {
      "text/plain": [
       "120"
      ]
     },
     "execution_count": 6,
     "metadata": {},
     "output_type": "execute_result"
    }
   ],
   "source": [
    "car.max_speed"
   ]
  },
  {
   "cell_type": "code",
   "execution_count": 7,
   "id": "b026670d-eb66-42bf-b7e1-8adcee552927",
   "metadata": {},
   "outputs": [
    {
     "data": {
      "text/plain": [
       "60"
      ]
     },
     "execution_count": 7,
     "metadata": {},
     "output_type": "execute_result"
    }
   ],
   "source": [
    "car.average_of_vehicle"
   ]
  },
  {
   "cell_type": "markdown",
   "id": "d48070a6-d40e-49e7-8ddc-9053896650a8",
   "metadata": {},
   "source": [
    "Q2.  Create a child class car from the vehicle class created in Que 1, which will inherit the vehicle class. \n",
    "Create a method named seating_capacity which takes capacity as an argument and returns the name of \n",
    "the vehicle and its seating capacity."
   ]
  },
  {
   "cell_type": "code",
   "execution_count": 8,
   "id": "1cc62e84-a50f-4413-8b9d-e20685a2ecb0",
   "metadata": {},
   "outputs": [],
   "source": [
    "class car(vehicle):\n",
    "    def __init__(self,seating_capacity):\n",
    "        self.seating_capacity=seating_capacity\n",
    "    \n",
    "    def details(self):\n",
    "        return self.name_of_vehicle,self.seating_capacity"
   ]
  },
  {
   "cell_type": "code",
   "execution_count": 9,
   "id": "540dd199-fe17-4169-bc3c-7a192d0e0e87",
   "metadata": {},
   "outputs": [],
   "source": [
    "c=car(5)"
   ]
  },
  {
   "cell_type": "code",
   "execution_count": 10,
   "id": "c6fa2128-60bf-4a04-ae50-d941286af364",
   "metadata": {},
   "outputs": [
    {
     "data": {
      "text/plain": [
       "5"
      ]
     },
     "execution_count": 10,
     "metadata": {},
     "output_type": "execute_result"
    }
   ],
   "source": [
    "c.seating_capacity"
   ]
  },
  {
   "cell_type": "markdown",
   "id": "815fd05d-4e83-4e49-a422-1a876b05e97e",
   "metadata": {},
   "source": [
    "Q3. What is multiple inheritance? Write a python code to demonstrate multiple inheritance."
   ]
  },
  {
   "cell_type": "code",
   "execution_count": 11,
   "id": "94dd34a8-b874-4933-b9c9-dd57c3085174",
   "metadata": {},
   "outputs": [
    {
     "name": "stdout",
     "output_type": "stream",
     "text": [
      "this is my data science course\n",
      "this is my web development course\n"
     ]
    }
   ],
   "source": [
    "#Inheritance in python means that in a class we can use previous class data or codes.\n",
    "#Multiple Inheritance means when a class is derived from more than one base class it is called multiple Inheritance.\n",
    "\n",
    "class course1:\n",
    "    course=\"data science\"\n",
    "    print(\"this is my data science course\")\n",
    "    \n",
    "class course2:\n",
    "    course=\"Web Development\"\n",
    "    print(\"this is my web development course\")\n",
    "    \n",
    "class courses(course1,course2):\n",
    "    course=\"this is my course\"\n",
    "    pass"
   ]
  },
  {
   "cell_type": "code",
   "execution_count": 12,
   "id": "6f47ab8e-d291-4382-a0d1-a08e0a0280ca",
   "metadata": {},
   "outputs": [],
   "source": [
    "c=courses()"
   ]
  },
  {
   "cell_type": "code",
   "execution_count": 13,
   "id": "54d36615-15ae-4c35-9aa6-0bb7509a860f",
   "metadata": {},
   "outputs": [
    {
     "data": {
      "text/plain": [
       "'this is my course'"
      ]
     },
     "execution_count": 13,
     "metadata": {},
     "output_type": "execute_result"
    }
   ],
   "source": [
    "c.course"
   ]
  },
  {
   "cell_type": "markdown",
   "id": "e4afcb84-2b2d-4d5b-aeda-4e6857ea709e",
   "metadata": {},
   "source": [
    "Q4. What are getter and setter in python? Create a class and create a getter and a setter method in this \n",
    "class."
   ]
  },
  {
   "cell_type": "code",
   "execution_count": 24,
   "id": "75cc9891-15d2-47d0-8a57-0e83423a2313",
   "metadata": {},
   "outputs": [],
   "source": [
    "# Getter is a method which allows to access the attributes in a given class. \n",
    "# Setter is a method which allows to set the attributes in a given class. \n",
    "\n",
    "class student_age:\n",
    "    def __init__(self,age):\n",
    "        self.__age=age\n",
    "        \n",
    "    @property\n",
    "    def access_age(self):\n",
    "        return self.__age\n",
    "\n",
    "    @access_age.setter\n",
    "    def age_set(self,new_age):\n",
    "        self.__age=new_age\n",
    "    \n",
    "        \n",
    "        "
   ]
  },
  {
   "cell_type": "code",
   "execution_count": 25,
   "id": "ffcf1077-a16c-4e0b-b457-c40001c72c86",
   "metadata": {},
   "outputs": [],
   "source": [
    "a=student_age(22)"
   ]
  },
  {
   "cell_type": "code",
   "execution_count": 26,
   "id": "c05a1c2e-c2ab-4d8d-8c2e-e121abad479d",
   "metadata": {},
   "outputs": [
    {
     "data": {
      "text/plain": [
       "22"
      ]
     },
     "execution_count": 26,
     "metadata": {},
     "output_type": "execute_result"
    }
   ],
   "source": [
    "a.access_age"
   ]
  },
  {
   "cell_type": "code",
   "execution_count": 29,
   "id": "1879c6cb-d4bb-4f39-86a8-b7755d29b435",
   "metadata": {},
   "outputs": [],
   "source": [
    "a.age_set=65"
   ]
  },
  {
   "cell_type": "code",
   "execution_count": 30,
   "id": "5a118bf2-6dc3-4b8a-8aef-b043d1057be4",
   "metadata": {},
   "outputs": [
    {
     "data": {
      "text/plain": [
       "65"
      ]
     },
     "execution_count": 30,
     "metadata": {},
     "output_type": "execute_result"
    }
   ],
   "source": [
    "a.access_age"
   ]
  },
  {
   "cell_type": "markdown",
   "id": "eb3dba3b-62f8-4817-a923-61e315d00cbd",
   "metadata": {},
   "source": [
    "Q5.What is method overriding in python? Write a python code to demonstrate method overriding."
   ]
  },
  {
   "cell_type": "code",
   "execution_count": 3,
   "id": "1dc09bc3-ff05-4f00-90da-fd98d36ca302",
   "metadata": {},
   "outputs": [
    {
     "data": {
      "text/plain": [
       "'Method overriding is an ability of any object-oriented programming language that allows a subclass or child class to provide a specific implementation of a method that is already provided by one of its super-classes or parent classes.'"
      ]
     },
     "execution_count": 3,
     "metadata": {},
     "output_type": "execute_result"
    }
   ],
   "source": [
    "\"\"\"Method overriding is an ability of any object-oriented programming language that allows a subclass or child class to provide a specific implementation of a method that is already provided by one of its super-classes or parent classes.\"\"\""
   ]
  },
  {
   "cell_type": "code",
   "execution_count": 4,
   "id": "173e6924-1013-4a6b-940e-624fc736f02f",
   "metadata": {},
   "outputs": [],
   "source": [
    "class class1():\n",
    "    def test1(self):\n",
    "        print(f\"this is my class 1 \")\n",
    "        \n",
    "class class2(class1):\n",
    "    def test2(self):\n",
    "        print(f\"this is my class 2 \")\n",
    "        \n",
    "class class3(class2):\n",
    "    def test3(self):\n",
    "        print(f\"this is my class 3 \")\n"
   ]
  },
  {
   "cell_type": "code",
   "execution_count": 5,
   "id": "98a8924e-d5d9-4b66-aaa5-c295f49aba5c",
   "metadata": {},
   "outputs": [],
   "source": [
    "a=class3()"
   ]
  },
  {
   "cell_type": "code",
   "execution_count": 8,
   "id": "1018b137-6eb6-44c3-8e82-19238acc4a07",
   "metadata": {},
   "outputs": [
    {
     "name": "stdout",
     "output_type": "stream",
     "text": [
      "this is my class 3 \n"
     ]
    }
   ],
   "source": [
    "a.test3()"
   ]
  },
  {
   "cell_type": "code",
   "execution_count": 9,
   "id": "8e83be08-bde8-4e97-8af0-87a27e62c899",
   "metadata": {},
   "outputs": [
    {
     "name": "stdout",
     "output_type": "stream",
     "text": [
      "this is my class 2 \n"
     ]
    }
   ],
   "source": [
    "a.test2()"
   ]
  },
  {
   "cell_type": "code",
   "execution_count": null,
   "id": "8d6251bd-04a2-4fd5-9a08-54003678a466",
   "metadata": {},
   "outputs": [],
   "source": []
  }
 ],
 "metadata": {
  "kernelspec": {
   "display_name": "Python 3 (ipykernel)",
   "language": "python",
   "name": "python3"
  },
  "language_info": {
   "codemirror_mode": {
    "name": "ipython",
    "version": 3
   },
   "file_extension": ".py",
   "mimetype": "text/x-python",
   "name": "python",
   "nbconvert_exporter": "python",
   "pygments_lexer": "ipython3",
   "version": "3.10.8"
  }
 },
 "nbformat": 4,
 "nbformat_minor": 5
}
